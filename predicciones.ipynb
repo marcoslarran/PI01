{
 "cells": [
  {
   "cell_type": "code",
   "execution_count": 5,
   "metadata": {},
   "outputs": [],
   "source": [
    "#Importamos las librerías\n",
    "import joblib\n",
    "import surprise\n",
    "import pandas as pd"
   ]
  },
  {
   "cell_type": "code",
   "execution_count": 2,
   "metadata": {},
   "outputs": [],
   "source": [
    "#Cargamos el modelo\n",
    "modelo = joblib.load('sistema_recomendacion.joblib')"
   ]
  },
  {
   "cell_type": "code",
   "execution_count": 23,
   "metadata": {},
   "outputs": [
    {
     "data": {
      "text/html": [
       "<div>\n",
       "<style scoped>\n",
       "    .dataframe tbody tr th:only-of-type {\n",
       "        vertical-align: middle;\n",
       "    }\n",
       "\n",
       "    .dataframe tbody tr th {\n",
       "        vertical-align: top;\n",
       "    }\n",
       "\n",
       "    .dataframe thead th {\n",
       "        text-align: right;\n",
       "    }\n",
       "</style>\n",
       "<table border=\"1\" class=\"dataframe\">\n",
       "  <thead>\n",
       "    <tr style=\"text-align: right;\">\n",
       "      <th></th>\n",
       "      <th>userId</th>\n",
       "      <th>movieId</th>\n",
       "    </tr>\n",
       "  </thead>\n",
       "  <tbody>\n",
       "    <tr>\n",
       "      <th>0</th>\n",
       "      <td>1</td>\n",
       "      <td>as680</td>\n",
       "    </tr>\n",
       "    <tr>\n",
       "      <th>1</th>\n",
       "      <td>1</td>\n",
       "      <td>ns2186</td>\n",
       "    </tr>\n",
       "    <tr>\n",
       "      <th>2</th>\n",
       "      <td>1</td>\n",
       "      <td>hs2381</td>\n",
       "    </tr>\n",
       "    <tr>\n",
       "      <th>3</th>\n",
       "      <td>1</td>\n",
       "      <td>ns3663</td>\n",
       "    </tr>\n",
       "    <tr>\n",
       "      <th>4</th>\n",
       "      <td>1</td>\n",
       "      <td>as9500</td>\n",
       "    </tr>\n",
       "    <tr>\n",
       "      <th>...</th>\n",
       "      <td>...</td>\n",
       "      <td>...</td>\n",
       "    </tr>\n",
       "    <tr>\n",
       "      <th>1199995</th>\n",
       "      <td>18638</td>\n",
       "      <td>as5451</td>\n",
       "    </tr>\n",
       "    <tr>\n",
       "      <th>1199996</th>\n",
       "      <td>18638</td>\n",
       "      <td>ds360</td>\n",
       "    </tr>\n",
       "    <tr>\n",
       "      <th>1199997</th>\n",
       "      <td>18638</td>\n",
       "      <td>ns2785</td>\n",
       "    </tr>\n",
       "    <tr>\n",
       "      <th>1199998</th>\n",
       "      <td>18638</td>\n",
       "      <td>ns5579</td>\n",
       "    </tr>\n",
       "    <tr>\n",
       "      <th>1199999</th>\n",
       "      <td>18638</td>\n",
       "      <td>ds1362</td>\n",
       "    </tr>\n",
       "  </tbody>\n",
       "</table>\n",
       "<p>1200000 rows × 2 columns</p>\n",
       "</div>"
      ],
      "text/plain": [
       "         userId movieId\n",
       "0             1   as680\n",
       "1             1  ns2186\n",
       "2             1  hs2381\n",
       "3             1  ns3663\n",
       "4             1  as9500\n",
       "...         ...     ...\n",
       "1199995   18638  as5451\n",
       "1199996   18638   ds360\n",
       "1199997   18638  ns2785\n",
       "1199998   18638  ns5579\n",
       "1199999   18638  ds1362\n",
       "\n",
       "[1200000 rows x 2 columns]"
      ]
     },
     "execution_count": 23,
     "metadata": {},
     "output_type": "execute_result"
    }
   ],
   "source": [
    "#Cargamos el listado de usuarios posibles\n",
    "usuarios_pos = pd.read_csv('Usuarios posibles.csv')\n",
    "usuarios_pos"
   ]
  },
  {
   "cell_type": "code",
   "execution_count": 40,
   "metadata": {},
   "outputs": [
    {
     "data": {
      "text/plain": [
       "Prediction(uid=1, iid='ns4065', r_ui=None, est=4.25, details={'actual_k': 0, 'was_impossible': False})"
      ]
     },
     "execution_count": 40,
     "metadata": {},
     "output_type": "execute_result"
    }
   ],
   "source": [
    "#Probamos el método predict\n",
    "modelo.predict(1,'ns4065')"
   ]
  },
  {
   "cell_type": "code",
   "execution_count": 16,
   "metadata": {},
   "outputs": [],
   "source": [
    "#Armamos la función\n",
    "def prediccion(usuario:int,show:str):\n",
    "    score = modelo.predict(usuario,show)[3]\n",
    "    if score>4:\n",
    "        return 'El programa '+show+' es muy recomendado para el usuario '+str(usuario)\n",
    "    elif score>3:\n",
    "        return 'El programa '+show+' es recomendado para el usuario '+str(usuario)\n",
    "    elif score>2:\n",
    "        return 'El programa '+show+' tiene baja recomendación para el usuario '+str(usuario)\n",
    "    else:\n",
    "        return 'El programa '+show+' no es recomendadoo para el usuario '+str(usuario)"
   ]
  },
  {
   "cell_type": "code",
   "execution_count": 39,
   "metadata": {},
   "outputs": [
    {
     "name": "stdout",
     "output_type": "stream",
     "text": [
      "El programa ns4065 es muy recomendado para el usuario 1\n",
      "El programa ns4065 es recomendado para el usuario 17\n",
      "El programa ns4065 tiene baja recomendación para el usuario 300\n"
     ]
    }
   ],
   "source": [
    "#Probamos\n",
    "print(prediccion(1,'ns4065'))\n",
    "print(prediccion(17,'ns4065'))\n",
    "print(prediccion(300,'ns4065'))"
   ]
  },
  {
   "cell_type": "code",
   "execution_count": null,
   "metadata": {},
   "outputs": [],
   "source": []
  }
 ],
 "metadata": {
  "kernelspec": {
   "display_name": "Python 3 (ipykernel)",
   "language": "python",
   "name": "python3"
  },
  "language_info": {
   "codemirror_mode": {
    "name": "ipython",
    "version": 3
   },
   "file_extension": ".py",
   "mimetype": "text/x-python",
   "name": "python",
   "nbconvert_exporter": "python",
   "pygments_lexer": "ipython3",
   "version": "3.9.13"
  },
  "vscode": {
   "interpreter": {
    "hash": "c85d268730ea981330376c80b6b1cbce1b8a5ac4f123406f20f750fb736d0b12"
   }
  }
 },
 "nbformat": 4,
 "nbformat_minor": 2
}
